{
 "cells": [
  {
   "cell_type": "code",
   "execution_count": 3,
   "id": "ad8db192",
   "metadata": {},
   "outputs": [
    {
     "name": "stdout",
     "output_type": "stream",
     "text": [
      "WARNING:tensorflow:From C:\\Users\\aakas\\anaconda3\\Lib\\site-packages\\keras\\src\\losses.py:2976: The name tf.losses.sparse_softmax_cross_entropy is deprecated. Please use tf.compat.v1.losses.sparse_softmax_cross_entropy instead.\n",
      "\n"
     ]
    }
   ],
   "source": [
    "import os\n",
    "import numpy as np\n",
    "import pandas as pd\n",
    "import zipfile\n",
    "import timeit\n",
    "import tensorflow as tf\n",
    "from tensorflow import keras\n",
    "from tensorflow.keras import layers\n",
    "from tensorflow.keras import metrics\n",
    "from tensorflow.keras.models import Sequential"
   ]
  },
  {
   "cell_type": "code",
   "execution_count": 4,
   "id": "d32a47fa",
   "metadata": {},
   "outputs": [],
   "source": [
    "full_data = pd.read_csv(r\"C:\\Users\\aakas\\Downloads\\datasets all\\train.csv\")\n",
    "test_data_x = pd.read_csv(r\"C:\\Users\\aakas\\Downloads\\datasets all\\test.csv\")\n",
    "test_data_y = pd.read_csv(r\"C:\\Users\\aakas\\Downloads\\datasets all\\test_labels.csv\")"
   ]
  },
  {
   "cell_type": "code",
   "execution_count": 8,
   "id": "92a7497b",
   "metadata": {},
   "outputs": [
    {
     "data": {
      "text/plain": [
       "(159571, 8)"
      ]
     },
     "execution_count": 8,
     "metadata": {},
     "output_type": "execute_result"
    }
   ],
   "source": [
    "full_data.shape"
   ]
  },
  {
   "cell_type": "code",
   "execution_count": 23,
   "id": "488d354e",
   "metadata": {},
   "outputs": [
    {
     "data": {
      "text/html": [
       "<div>\n",
       "<style scoped>\n",
       "    .dataframe tbody tr th:only-of-type {\n",
       "        vertical-align: middle;\n",
       "    }\n",
       "\n",
       "    .dataframe tbody tr th {\n",
       "        vertical-align: top;\n",
       "    }\n",
       "\n",
       "    .dataframe thead th {\n",
       "        text-align: right;\n",
       "    }\n",
       "</style>\n",
       "<table border=\"1\" class=\"dataframe\">\n",
       "  <thead>\n",
       "    <tr style=\"text-align: right;\">\n",
       "      <th></th>\n",
       "      <th>id</th>\n",
       "      <th>comment_text</th>\n",
       "      <th>toxic</th>\n",
       "      <th>severe_toxic</th>\n",
       "      <th>obscene</th>\n",
       "      <th>threat</th>\n",
       "      <th>insult</th>\n",
       "      <th>identity_hate</th>\n",
       "    </tr>\n",
       "  </thead>\n",
       "  <tbody>\n",
       "    <tr>\n",
       "      <th>0</th>\n",
       "      <td>0000997932d777bf</td>\n",
       "      <td>Explanation\\nWhy the edits made under my usern...</td>\n",
       "      <td>0</td>\n",
       "      <td>0</td>\n",
       "      <td>0</td>\n",
       "      <td>0</td>\n",
       "      <td>0</td>\n",
       "      <td>0</td>\n",
       "    </tr>\n",
       "    <tr>\n",
       "      <th>1</th>\n",
       "      <td>000103f0d9cfb60f</td>\n",
       "      <td>D'aww! He matches this background colour I'm s...</td>\n",
       "      <td>0</td>\n",
       "      <td>0</td>\n",
       "      <td>0</td>\n",
       "      <td>0</td>\n",
       "      <td>0</td>\n",
       "      <td>0</td>\n",
       "    </tr>\n",
       "    <tr>\n",
       "      <th>2</th>\n",
       "      <td>000113f07ec002fd</td>\n",
       "      <td>Hey man, I'm really not trying to edit war. It...</td>\n",
       "      <td>0</td>\n",
       "      <td>0</td>\n",
       "      <td>0</td>\n",
       "      <td>0</td>\n",
       "      <td>0</td>\n",
       "      <td>0</td>\n",
       "    </tr>\n",
       "    <tr>\n",
       "      <th>3</th>\n",
       "      <td>0001b41b1c6bb37e</td>\n",
       "      <td>\"\\nMore\\nI can't make any real suggestions on ...</td>\n",
       "      <td>0</td>\n",
       "      <td>0</td>\n",
       "      <td>0</td>\n",
       "      <td>0</td>\n",
       "      <td>0</td>\n",
       "      <td>0</td>\n",
       "    </tr>\n",
       "    <tr>\n",
       "      <th>4</th>\n",
       "      <td>0001d958c54c6e35</td>\n",
       "      <td>You, sir, are my hero. Any chance you remember...</td>\n",
       "      <td>0</td>\n",
       "      <td>0</td>\n",
       "      <td>0</td>\n",
       "      <td>0</td>\n",
       "      <td>0</td>\n",
       "      <td>0</td>\n",
       "    </tr>\n",
       "  </tbody>\n",
       "</table>\n",
       "</div>"
      ],
      "text/plain": [
       "                 id                                       comment_text  toxic  \\\n",
       "0  0000997932d777bf  Explanation\\nWhy the edits made under my usern...      0   \n",
       "1  000103f0d9cfb60f  D'aww! He matches this background colour I'm s...      0   \n",
       "2  000113f07ec002fd  Hey man, I'm really not trying to edit war. It...      0   \n",
       "3  0001b41b1c6bb37e  \"\\nMore\\nI can't make any real suggestions on ...      0   \n",
       "4  0001d958c54c6e35  You, sir, are my hero. Any chance you remember...      0   \n",
       "\n",
       "   severe_toxic  obscene  threat  insult  identity_hate  \n",
       "0             0        0       0       0              0  \n",
       "1             0        0       0       0              0  \n",
       "2             0        0       0       0              0  \n",
       "3             0        0       0       0              0  \n",
       "4             0        0       0       0              0  "
      ]
     },
     "execution_count": 23,
     "metadata": {},
     "output_type": "execute_result"
    }
   ],
   "source": [
    "full_data.head()"
   ]
  },
  {
   "cell_type": "code",
   "execution_count": 24,
   "id": "544c53e1",
   "metadata": {
    "scrolled": true
   },
   "outputs": [
    {
     "data": {
      "text/html": [
       "<div>\n",
       "<style scoped>\n",
       "    .dataframe tbody tr th:only-of-type {\n",
       "        vertical-align: middle;\n",
       "    }\n",
       "\n",
       "    .dataframe tbody tr th {\n",
       "        vertical-align: top;\n",
       "    }\n",
       "\n",
       "    .dataframe thead th {\n",
       "        text-align: right;\n",
       "    }\n",
       "</style>\n",
       "<table border=\"1\" class=\"dataframe\">\n",
       "  <thead>\n",
       "    <tr style=\"text-align: right;\">\n",
       "      <th></th>\n",
       "      <th>id</th>\n",
       "      <th>comment_text</th>\n",
       "    </tr>\n",
       "  </thead>\n",
       "  <tbody>\n",
       "    <tr>\n",
       "      <th>0</th>\n",
       "      <td>00001cee341fdb12</td>\n",
       "      <td>Yo bitch Ja Rule is more succesful then you'll...</td>\n",
       "    </tr>\n",
       "    <tr>\n",
       "      <th>1</th>\n",
       "      <td>0000247867823ef7</td>\n",
       "      <td>== From RfC == \\n\\n The title is fine as it is...</td>\n",
       "    </tr>\n",
       "    <tr>\n",
       "      <th>2</th>\n",
       "      <td>00013b17ad220c46</td>\n",
       "      <td>\" \\n\\n == Sources == \\n\\n * Zawe Ashton on Lap...</td>\n",
       "    </tr>\n",
       "    <tr>\n",
       "      <th>3</th>\n",
       "      <td>00017563c3f7919a</td>\n",
       "      <td>:If you have a look back at the source, the in...</td>\n",
       "    </tr>\n",
       "    <tr>\n",
       "      <th>4</th>\n",
       "      <td>00017695ad8997eb</td>\n",
       "      <td>I don't anonymously edit articles at all.</td>\n",
       "    </tr>\n",
       "  </tbody>\n",
       "</table>\n",
       "</div>"
      ],
      "text/plain": [
       "                 id                                       comment_text\n",
       "0  00001cee341fdb12  Yo bitch Ja Rule is more succesful then you'll...\n",
       "1  0000247867823ef7  == From RfC == \\n\\n The title is fine as it is...\n",
       "2  00013b17ad220c46  \" \\n\\n == Sources == \\n\\n * Zawe Ashton on Lap...\n",
       "3  00017563c3f7919a  :If you have a look back at the source, the in...\n",
       "4  00017695ad8997eb          I don't anonymously edit articles at all."
      ]
     },
     "execution_count": 24,
     "metadata": {},
     "output_type": "execute_result"
    }
   ],
   "source": [
    "test_data_x.head()"
   ]
  },
  {
   "cell_type": "code",
   "execution_count": 25,
   "id": "a9bff99f",
   "metadata": {},
   "outputs": [
    {
     "data": {
      "text/html": [
       "<div>\n",
       "<style scoped>\n",
       "    .dataframe tbody tr th:only-of-type {\n",
       "        vertical-align: middle;\n",
       "    }\n",
       "\n",
       "    .dataframe tbody tr th {\n",
       "        vertical-align: top;\n",
       "    }\n",
       "\n",
       "    .dataframe thead th {\n",
       "        text-align: right;\n",
       "    }\n",
       "</style>\n",
       "<table border=\"1\" class=\"dataframe\">\n",
       "  <thead>\n",
       "    <tr style=\"text-align: right;\">\n",
       "      <th></th>\n",
       "      <th>id</th>\n",
       "      <th>toxic</th>\n",
       "      <th>severe_toxic</th>\n",
       "      <th>obscene</th>\n",
       "      <th>threat</th>\n",
       "      <th>insult</th>\n",
       "      <th>identity_hate</th>\n",
       "    </tr>\n",
       "  </thead>\n",
       "  <tbody>\n",
       "    <tr>\n",
       "      <th>0</th>\n",
       "      <td>00001cee341fdb12</td>\n",
       "      <td>-1</td>\n",
       "      <td>-1</td>\n",
       "      <td>-1</td>\n",
       "      <td>-1</td>\n",
       "      <td>-1</td>\n",
       "      <td>-1</td>\n",
       "    </tr>\n",
       "    <tr>\n",
       "      <th>1</th>\n",
       "      <td>0000247867823ef7</td>\n",
       "      <td>-1</td>\n",
       "      <td>-1</td>\n",
       "      <td>-1</td>\n",
       "      <td>-1</td>\n",
       "      <td>-1</td>\n",
       "      <td>-1</td>\n",
       "    </tr>\n",
       "    <tr>\n",
       "      <th>2</th>\n",
       "      <td>00013b17ad220c46</td>\n",
       "      <td>-1</td>\n",
       "      <td>-1</td>\n",
       "      <td>-1</td>\n",
       "      <td>-1</td>\n",
       "      <td>-1</td>\n",
       "      <td>-1</td>\n",
       "    </tr>\n",
       "    <tr>\n",
       "      <th>3</th>\n",
       "      <td>00017563c3f7919a</td>\n",
       "      <td>-1</td>\n",
       "      <td>-1</td>\n",
       "      <td>-1</td>\n",
       "      <td>-1</td>\n",
       "      <td>-1</td>\n",
       "      <td>-1</td>\n",
       "    </tr>\n",
       "    <tr>\n",
       "      <th>4</th>\n",
       "      <td>00017695ad8997eb</td>\n",
       "      <td>-1</td>\n",
       "      <td>-1</td>\n",
       "      <td>-1</td>\n",
       "      <td>-1</td>\n",
       "      <td>-1</td>\n",
       "      <td>-1</td>\n",
       "    </tr>\n",
       "  </tbody>\n",
       "</table>\n",
       "</div>"
      ],
      "text/plain": [
       "                 id  toxic  severe_toxic  obscene  threat  insult  \\\n",
       "0  00001cee341fdb12     -1            -1       -1      -1      -1   \n",
       "1  0000247867823ef7     -1            -1       -1      -1      -1   \n",
       "2  00013b17ad220c46     -1            -1       -1      -1      -1   \n",
       "3  00017563c3f7919a     -1            -1       -1      -1      -1   \n",
       "4  00017695ad8997eb     -1            -1       -1      -1      -1   \n",
       "\n",
       "   identity_hate  \n",
       "0             -1  \n",
       "1             -1  \n",
       "2             -1  \n",
       "3             -1  \n",
       "4             -1  "
      ]
     },
     "execution_count": 25,
     "metadata": {},
     "output_type": "execute_result"
    }
   ],
   "source": [
    "test_data_y.head()"
   ]
  },
  {
   "cell_type": "code",
   "execution_count": 26,
   "id": "946e92b4",
   "metadata": {},
   "outputs": [
    {
     "data": {
      "text/html": [
       "<div>\n",
       "<style scoped>\n",
       "    .dataframe tbody tr th:only-of-type {\n",
       "        vertical-align: middle;\n",
       "    }\n",
       "\n",
       "    .dataframe tbody tr th {\n",
       "        vertical-align: top;\n",
       "    }\n",
       "\n",
       "    .dataframe thead th {\n",
       "        text-align: right;\n",
       "    }\n",
       "</style>\n",
       "<table border=\"1\" class=\"dataframe\">\n",
       "  <thead>\n",
       "    <tr style=\"text-align: right;\">\n",
       "      <th></th>\n",
       "      <th>id</th>\n",
       "      <th>comment_text</th>\n",
       "      <th>toxic</th>\n",
       "      <th>severe_toxic</th>\n",
       "      <th>obscene</th>\n",
       "      <th>threat</th>\n",
       "      <th>insult</th>\n",
       "      <th>identity_hate</th>\n",
       "    </tr>\n",
       "  </thead>\n",
       "  <tbody>\n",
       "    <tr>\n",
       "      <th>42418</th>\n",
       "      <td>a92dd151871276c4</td>\n",
       "      <td>:Didn't realize there was such a disparity on ...</td>\n",
       "      <td>0</td>\n",
       "      <td>0</td>\n",
       "      <td>0</td>\n",
       "      <td>0</td>\n",
       "      <td>0</td>\n",
       "      <td>0</td>\n",
       "    </tr>\n",
       "    <tr>\n",
       "      <th>13523</th>\n",
       "      <td>35e38a97d0fff9bc</td>\n",
       "      <td>Should not the article say how universally det...</td>\n",
       "      <td>0</td>\n",
       "      <td>0</td>\n",
       "      <td>0</td>\n",
       "      <td>0</td>\n",
       "      <td>0</td>\n",
       "      <td>0</td>\n",
       "    </tr>\n",
       "    <tr>\n",
       "      <th>57259</th>\n",
       "      <td>e4a998728074eb04</td>\n",
       "      <td>==Cause or Effect?== \\n The Boxing Day Tsunami...</td>\n",
       "      <td>0</td>\n",
       "      <td>0</td>\n",
       "      <td>0</td>\n",
       "      <td>0</td>\n",
       "      <td>0</td>\n",
       "      <td>0</td>\n",
       "    </tr>\n",
       "    <tr>\n",
       "      <th>52673</th>\n",
       "      <td>d2236585537ca236</td>\n",
       "      <td>\" \\n\\n == Edit summary == \\n\\n You're right. R...</td>\n",
       "      <td>0</td>\n",
       "      <td>0</td>\n",
       "      <td>0</td>\n",
       "      <td>0</td>\n",
       "      <td>0</td>\n",
       "      <td>0</td>\n",
       "    </tr>\n",
       "    <tr>\n",
       "      <th>42378</th>\n",
       "      <td>a901d6c6a31bfb1a</td>\n",
       "      <td>\" \\n\\n  Please stop adding unreferenced contro...</td>\n",
       "      <td>0</td>\n",
       "      <td>0</td>\n",
       "      <td>0</td>\n",
       "      <td>0</td>\n",
       "      <td>0</td>\n",
       "      <td>0</td>\n",
       "    </tr>\n",
       "  </tbody>\n",
       "</table>\n",
       "</div>"
      ],
      "text/plain": [
       "                     id                                       comment_text  \\\n",
       "42418  a92dd151871276c4  :Didn't realize there was such a disparity on ...   \n",
       "13523  35e38a97d0fff9bc  Should not the article say how universally det...   \n",
       "57259  e4a998728074eb04  ==Cause or Effect?== \\n The Boxing Day Tsunami...   \n",
       "52673  d2236585537ca236  \" \\n\\n == Edit summary == \\n\\n You're right. R...   \n",
       "42378  a901d6c6a31bfb1a  \" \\n\\n  Please stop adding unreferenced contro...   \n",
       "\n",
       "       toxic  severe_toxic  obscene  threat  insult  identity_hate  \n",
       "42418      0             0        0       0       0              0  \n",
       "13523      0             0        0       0       0              0  \n",
       "57259      0             0        0       0       0              0  \n",
       "52673      0             0        0       0       0              0  \n",
       "42378      0             0        0       0       0              0  "
      ]
     },
     "execution_count": 26,
     "metadata": {},
     "output_type": "execute_result"
    }
   ],
   "source": [
    "# Merging the X and y part together\n",
    "test_dataframe = pd.merge(test_data_x, test_data_y, how=\"inner\", on=\"id\")\n",
    "\n",
    "# Remove all the rows having missing values (-1)\n",
    "test_dataframe = test_dataframe[test_dataframe[\"toxic\"] != -1].reset_index(drop=True)\n",
    "\n",
    "test_dataframe.sample(5)"
   ]
  },
  {
   "cell_type": "code",
   "execution_count": 27,
   "id": "3531ddd0",
   "metadata": {},
   "outputs": [
    {
     "name": "stdout",
     "output_type": "stream",
     "text": [
      "We have 63978 observations in test data.\n"
     ]
    }
   ],
   "source": [
    "print(f\"We have {len(test_dataframe)} observations in test data.\")"
   ]
  },
  {
   "cell_type": "code",
   "execution_count": 28,
   "id": "5bee7212",
   "metadata": {},
   "outputs": [],
   "source": [
    "# Remove the unnecessary data\n",
    "\n",
    "del test_data_x\n",
    "del test_data_y"
   ]
  },
  {
   "cell_type": "code",
   "execution_count": 29,
   "id": "37a16a8a",
   "metadata": {},
   "outputs": [
    {
     "data": {
      "text/plain": [
       "Index(['id', 'comment_text', 'toxic', 'severe_toxic', 'obscene', 'threat',\n",
       "       'insult', 'identity_hate'],\n",
       "      dtype='object')"
      ]
     },
     "execution_count": 29,
     "metadata": {},
     "output_type": "execute_result"
    }
   ],
   "source": [
    "full_data.columns"
   ]
  },
  {
   "cell_type": "code",
   "execution_count": 30,
   "id": "1c94218a",
   "metadata": {},
   "outputs": [
    {
     "data": {
      "text/plain": [
       "array([\"Explanation\\nWhy the edits made under my username Hardcore Metallica Fan were reverted? They weren't vandalisms, just closure on some GAs after I voted at New York Dolls FAC. And please don't remove the template from the talk page since I'm retired now.89.205.38.27\",\n",
       "       \"D'aww! He matches this background colour I'm seemingly stuck with. Thanks.  (talk) 21:51, January 11, 2016 (UTC)\",\n",
       "       \"Hey man, I'm really not trying to edit war. It's just that this guy is constantly removing relevant information and talking to me through edits instead of my talk page. He seems to care more about the formatting than the actual info.\",\n",
       "       ...,\n",
       "       'Spitzer \\n\\nUmm, theres no actual article for prostitution ring.  - Crunch Captain.',\n",
       "       'And it looks like it was actually you who put on the speedy to have the first version deleted now that I look at it.',\n",
       "       '\"\\nAnd ... I really don\\'t think you understand.  I came here and my idea was bad right away.  What kind of community goes \"\"you have bad ideas\"\" go away, instead of helping rewrite them.   \"'],\n",
       "      dtype=object)"
      ]
     },
     "execution_count": 30,
     "metadata": {},
     "output_type": "execute_result"
    }
   ],
   "source": [
    "full_data[\"comment_text\"].values"
   ]
  },
  {
   "cell_type": "code",
   "execution_count": 31,
   "id": "06f91676",
   "metadata": {},
   "outputs": [
    {
     "data": {
      "text/plain": [
       "array([[0, 0, 0, 0, 0, 0],\n",
       "       [0, 0, 0, 0, 0, 0],\n",
       "       [0, 0, 0, 0, 0, 0],\n",
       "       ...,\n",
       "       [0, 0, 0, 0, 0, 0],\n",
       "       [0, 0, 0, 0, 0, 0],\n",
       "       [0, 0, 0, 0, 0, 0]], dtype=int64)"
      ]
     },
     "execution_count": 31,
     "metadata": {},
     "output_type": "execute_result"
    }
   ],
   "source": [
    "full_data[['toxic', 'severe_toxic', 'obscene', 'threat', 'insult', 'identity_hate']].values"
   ]
  },
  {
   "cell_type": "code",
   "execution_count": 32,
   "id": "bc676473",
   "metadata": {},
   "outputs": [],
   "source": [
    "# Convert the dataframes into tensorflow Dataset objects\n",
    "\n",
    "train_data = tf.data.Dataset.from_tensor_slices(\n",
    "    (\n",
    "        full_data[\"comment_text\"].tolist(), \n",
    "        full_data[['toxic', 'severe_toxic', 'obscene', 'threat', 'insult', 'identity_hate']].values.tolist()\n",
    "    )\n",
    ")\n",
    "\n",
    "test_data = tf.data.Dataset.from_tensor_slices(\n",
    "    (\n",
    "        test_dataframe[\"comment_text\"].tolist(), \n",
    "        test_dataframe[['toxic', 'severe_toxic', 'obscene', 'threat', 'insult', 'identity_hate']].values.tolist()\n",
    "    )\n",
    ")"
   ]
  },
  {
   "cell_type": "code",
   "execution_count": 33,
   "id": "5de6a431",
   "metadata": {},
   "outputs": [],
   "source": [
    "batch_size = 64\n",
    "\n",
    "train_data = train_data.cache().shuffle(1024).batch(batch_size).prefetch(tf.data.AUTOTUNE)\n",
    "test_data = test_data.cache().batch(batch_size)"
   ]
  },
  {
   "cell_type": "code",
   "execution_count": 34,
   "id": "67114227",
   "metadata": {},
   "outputs": [
    {
     "name": "stdout",
     "output_type": "stream",
     "text": [
      "It took 16.258457799995085 seconds to adapt.\n"
     ]
    }
   ],
   "source": [
    "max_tokens = 100000\n",
    "\n",
    "start = timeit.default_timer()\n",
    "\n",
    "text_vectorization = layers.TextVectorization(\n",
    "    max_tokens=max_tokens,\n",
    "    standardize='lower_and_strip_punctuation',\n",
    "    output_mode=\"int\",\n",
    "    output_sequence_length=1800\n",
    ")\n",
    "\n",
    "text_vectorization.adapt(full_data[\"comment_text\"].tolist())\n",
    "\n",
    "end = timeit.default_timer()\n",
    "\n",
    "print(f\"It took {end - start} seconds to adapt.\")"
   ]
  },
  {
   "cell_type": "code",
   "execution_count": 35,
   "id": "0fa6df8f",
   "metadata": {},
   "outputs": [],
   "source": [
    "del full_data\n",
    "del test_dataframe"
   ]
  },
  {
   "cell_type": "code",
   "execution_count": 36,
   "id": "fc230474",
   "metadata": {},
   "outputs": [],
   "source": [
    "model = Sequential([\n",
    "    text_vectorization,\n",
    "    layers.Embedding(max_tokens+1, 32),\n",
    "    layers.Bidirectional(layers.LSTM(32, return_sequences=False)),\n",
    "    layers.Dense(256, activation=\"relu\"),\n",
    "    layers.Dense(256, activation=\"relu\"),\n",
    "    layers.Dense(128, activation=\"relu\"),\n",
    "    layers.Dense(6, activation=\"sigmoid\")\n",
    "])"
   ]
  },
  {
   "cell_type": "code",
   "execution_count": 37,
   "id": "4b9bd027",
   "metadata": {},
   "outputs": [],
   "source": [
    "model.compile(\n",
    "    optimizer=\"adam\",\n",
    "    loss=\"binary_crossentropy\",\n",
    "    metrics=metrics.BinaryAccuracy()\n",
    ")"
   ]
  },
  {
   "cell_type": "code",
   "execution_count": 38,
   "id": "bf0cc554",
   "metadata": {},
   "outputs": [],
   "source": [
    "train_split = 0.8\n",
    "\n",
    "train_data = train_data.take(int(len(train_data) * train_split))\n",
    "valid_data = train_data.skip(int(len(train_data) * train_split))"
   ]
  },
  {
   "cell_type": "code",
   "execution_count": 39,
   "id": "92cd5bc2",
   "metadata": {},
   "outputs": [
    {
     "name": "stdout",
     "output_type": "stream",
     "text": [
      "The cardinality of train data is  1995\n",
      "The cardinality of validation data is  399\n",
      "The cardinality of test data is  1000\n"
     ]
    }
   ],
   "source": [
    "print(\"The cardinality of train data is \", train_data.cardinality().numpy())\n",
    "print(\"The cardinality of validation data is \", valid_data.cardinality().numpy())\n",
    "print(\"The cardinality of test data is \", test_data.cardinality().numpy())"
   ]
  },
  {
   "cell_type": "code",
   "execution_count": 40,
   "id": "36ed1760",
   "metadata": {},
   "outputs": [],
   "source": [
    "callbacks = [\n",
    "    keras.callbacks.EarlyStopping(\n",
    "        monitor=\"val_loss\",\n",
    "        patience=5, \n",
    "        restore_best_weights=True, \n",
    "        start_from_epoch=1, \n",
    "        verbose=1\n",
    "    ),\n",
    "    keras.callbacks.ReduceLROnPlateau(\n",
    "        monitor=\"val_loss\", \n",
    "        factor=0.5, \n",
    "        patience=3, \n",
    "        verbose=1, \n",
    "        min_lr=1e-6\n",
    "    )\n",
    "]"
   ]
  },
  {
   "cell_type": "code",
   "execution_count": 41,
   "id": "eecd0af6",
   "metadata": {},
   "outputs": [
    {
     "name": "stdout",
     "output_type": "stream",
     "text": [
      "Epoch 1/15\n",
      "1995/1995 [==============================] - 2374s 1s/step - loss: 0.0666 - binary_accuracy: 0.9783 - val_loss: 0.0414 - val_binary_accuracy: 0.9843 - lr: 0.0010\n",
      "Epoch 2/15\n",
      "1995/1995 [==============================] - 1720s 862ms/step - loss: 0.0441 - binary_accuracy: 0.9833 - val_loss: 0.0424 - val_binary_accuracy: 0.9861 - lr: 0.0010\n",
      "Epoch 3/15\n",
      "1995/1995 [==============================] - 1711s 858ms/step - loss: 0.0384 - binary_accuracy: 0.9849 - val_loss: 0.0320 - val_binary_accuracy: 0.9874 - lr: 0.0010\n",
      "Epoch 4/15\n",
      "1995/1995 [==============================] - 1725s 864ms/step - loss: 0.0335 - binary_accuracy: 0.9866 - val_loss: 0.0268 - val_binary_accuracy: 0.9898 - lr: 0.0010\n",
      "Epoch 5/15\n",
      "1995/1995 [==============================] - 1741s 872ms/step - loss: 0.0295 - binary_accuracy: 0.9881 - val_loss: 0.0258 - val_binary_accuracy: 0.9908 - lr: 0.0010\n",
      "Epoch 6/15\n",
      "1995/1995 [==============================] - 1729s 867ms/step - loss: 0.0258 - binary_accuracy: 0.9895 - val_loss: 0.0216 - val_binary_accuracy: 0.9919 - lr: 0.0010\n",
      "Epoch 7/15\n",
      "1995/1995 [==============================] - 1741s 873ms/step - loss: 0.0223 - binary_accuracy: 0.9910 - val_loss: 0.0163 - val_binary_accuracy: 0.9937 - lr: 0.0010\n",
      "Epoch 8/15\n",
      "1995/1995 [==============================] - 1728s 866ms/step - loss: 0.0196 - binary_accuracy: 0.9921 - val_loss: 0.0193 - val_binary_accuracy: 0.9924 - lr: 0.0010\n",
      "Epoch 9/15\n",
      "1995/1995 [==============================] - 1725s 865ms/step - loss: 0.0168 - binary_accuracy: 0.9932 - val_loss: 0.0153 - val_binary_accuracy: 0.9947 - lr: 0.0010\n",
      "Epoch 10/15\n",
      "1995/1995 [==============================] - 1723s 864ms/step - loss: 0.0155 - binary_accuracy: 0.9939 - val_loss: 0.0129 - val_binary_accuracy: 0.9954 - lr: 0.0010\n",
      "Epoch 11/15\n",
      "1995/1995 [==============================] - 1720s 862ms/step - loss: 0.0133 - binary_accuracy: 0.9948 - val_loss: 0.0146 - val_binary_accuracy: 0.9944 - lr: 0.0010\n",
      "Epoch 12/15\n",
      "1995/1995 [==============================] - 1712s 858ms/step - loss: 0.0119 - binary_accuracy: 0.9954 - val_loss: 0.0100 - val_binary_accuracy: 0.9963 - lr: 0.0010\n",
      "Epoch 13/15\n",
      "1995/1995 [==============================] - 1727s 866ms/step - loss: 0.0105 - binary_accuracy: 0.9960 - val_loss: 0.0086 - val_binary_accuracy: 0.9968 - lr: 0.0010\n",
      "Epoch 14/15\n",
      "1995/1995 [==============================] - 1713s 859ms/step - loss: 0.0096 - binary_accuracy: 0.9963 - val_loss: 0.0077 - val_binary_accuracy: 0.9972 - lr: 0.0010\n",
      "Epoch 15/15\n",
      "1995/1995 [==============================] - 1721s 863ms/step - loss: 0.0085 - binary_accuracy: 0.9968 - val_loss: 0.0084 - val_binary_accuracy: 0.9971 - lr: 0.0010\n",
      "It took 26570.956885400003 seconds to train the model.\n"
     ]
    }
   ],
   "source": [
    "start = timeit.default_timer()\n",
    "\n",
    "model_history = model.fit(\n",
    "    train_data,\n",
    "    epochs=15,\n",
    "    verbose=1,\n",
    "    callbacks=callbacks,\n",
    "    validation_data=valid_data\n",
    ").history\n",
    "\n",
    "end = timeit.default_timer()\n",
    "\n",
    "print(f\"It took {end - start} seconds to train the model.\")"
   ]
  },
  {
   "cell_type": "code",
   "execution_count": 42,
   "id": "3f7e6265",
   "metadata": {},
   "outputs": [
    {
     "name": "stdout",
     "output_type": "stream",
     "text": [
      "1000/1000 [==============================] - 197s 197ms/step - loss: 0.1599 - binary_accuracy: 0.9567\n"
     ]
    },
    {
     "data": {
      "text/plain": [
       "[0.15989956259727478, 0.9566934704780579]"
      ]
     },
     "execution_count": 42,
     "metadata": {},
     "output_type": "execute_result"
    }
   ],
   "source": [
    "model.evaluate(test_data)"
   ]
  },
  {
   "cell_type": "code",
   "execution_count": 43,
   "id": "28478415",
   "metadata": {},
   "outputs": [
    {
     "name": "stdout",
     "output_type": "stream",
     "text": [
      "1/1 [==============================] - 2s 2s/step\n",
      "toxic               : 1    \n",
      "severe_toxic        : 1    \n",
      "obscene             : 1    \n",
      "threat              : 0    \n",
      "insult              : 1    \n",
      "identity_hate       : 0    \n",
      "\n"
     ]
    }
   ],
   "source": [
    "text = \"Yo bitch he is more succesful then you'll be in your life\"\n",
    "predictions = model.predict(np.array([text])) > 0.5\n",
    "prediction_text = \"\"\n",
    "for i, col in enumerate(['toxic', 'severe_toxic', 'obscene', 'threat', 'insult', 'identity_hate']):\n",
    "    prediction_text += f\"{col:<{20}}: {predictions[0][i]:<{5}}\\n\"\n",
    "print(prediction_text)"
   ]
  },
  {
   "cell_type": "code",
   "execution_count": 44,
   "id": "1bbe5528",
   "metadata": {},
   "outputs": [
    {
     "name": "stdout",
     "output_type": "stream",
     "text": [
      "1/1 [==============================] - 0s 106ms/step\n",
      "toxic               : 0    \n",
      "severe_toxic        : 0    \n",
      "obscene             : 0    \n",
      "threat              : 0    \n",
      "insult              : 0    \n",
      "identity_hate       : 0    \n",
      "\n"
     ]
    }
   ],
   "source": [
    "text = \"hello world\"\n",
    "predictions = model.predict(np.array([text])) > 0.5\n",
    "prediction_text = \"\"\n",
    "for i, col in enumerate(['toxic', 'severe_toxic', 'obscene', 'threat', 'insult', 'identity_hate']):\n",
    "    prediction_text += f\"{col:<{20}}: {predictions[0][i]:<{5}}\\n\"\n",
    "print(prediction_text)"
   ]
  },
  {
   "cell_type": "code",
   "execution_count": 45,
   "id": "1f304768",
   "metadata": {},
   "outputs": [
    {
     "name": "stdout",
     "output_type": "stream",
     "text": [
      "1/1 [==============================] - 0s 123ms/step\n",
      "toxic               : 0    \n",
      "severe_toxic        : 0    \n",
      "obscene             : 0    \n",
      "threat              : 0    \n",
      "insult              : 0    \n",
      "identity_hate       : 0    \n",
      "\n"
     ]
    }
   ],
   "source": [
    "text = \"how is everyone\"\n",
    "predictions = model.predict(np.array([text])) > 0.5\n",
    "prediction_text = \"\"\n",
    "for i, col in enumerate(['toxic', 'severe_toxic', 'obscene', 'threat', 'insult', 'identity_hate']):\n",
    "    prediction_text += f\"{col:<{20}}: {predictions[0][i]:<{5}}\\n\"\n",
    "print(prediction_text)"
   ]
  },
  {
   "cell_type": "code",
   "execution_count": 46,
   "id": "9699d7b4",
   "metadata": {},
   "outputs": [
    {
     "name": "stdout",
     "output_type": "stream",
     "text": [
      "1/1 [==============================] - 0s 103ms/step\n",
      "toxic               : 1    \n",
      "severe_toxic        : 0    \n",
      "obscene             : 1    \n",
      "threat              : 0    \n",
      "insult              : 1    \n",
      "identity_hate       : 1    \n",
      "\n"
     ]
    }
   ],
   "source": [
    "text = \"fuck you nigger\"\n",
    "predictions = model.predict(np.array([text])) > 0.5\n",
    "prediction_text = \"\"\n",
    "for i, col in enumerate(['toxic', 'severe_toxic', 'obscene', 'threat', 'insult', 'identity_hate']):\n",
    "    prediction_text += f\"{col:<{20}}: {predictions[0][i]:<{5}}\\n\"\n",
    "print(prediction_text)"
   ]
  },
  {
   "cell_type": "code",
   "execution_count": 47,
   "id": "90dbe19c",
   "metadata": {},
   "outputs": [
    {
     "name": "stdout",
     "output_type": "stream",
     "text": [
      "1/1 [==============================] - 0s 117ms/step\n",
      "toxic               : 0    \n",
      "severe_toxic        : 0    \n",
      "obscene             : 0    \n",
      "threat              : 0    \n",
      "insult              : 0    \n",
      "identity_hate       : 0    \n",
      "\n"
     ]
    }
   ],
   "source": [
    "text = \"jevlis ka <3\"\n",
    "predictions = model.predict(np.array([text])) > 0.5\n",
    "prediction_text = \"\"\n",
    "for i, col in enumerate(['toxic', 'severe_toxic', 'obscene', 'threat', 'insult', 'identity_hate']):\n",
    "    prediction_text += f\"{col:<{20}}: {predictions[0][i]:<{5}}\\n\"\n",
    "print(prediction_text)"
   ]
  },
  {
   "cell_type": "code",
   "execution_count": 48,
   "id": "97cc890a",
   "metadata": {},
   "outputs": [
    {
     "name": "stdout",
     "output_type": "stream",
     "text": [
      "1/1 [==============================] - 0s 82ms/step\n",
      "toxic               : 1    \n",
      "severe_toxic        : 0    \n",
      "obscene             : 1    \n",
      "threat              : 1    \n",
      "insult              : 1    \n",
      "identity_hate       : 0    \n",
      "\n"
     ]
    }
   ],
   "source": [
    "text = \"I think that you are a Faggot get a life and burn in Hell I hate you, im going to find out where u live and kill everyone of you\"\n",
    "predictions = model.predict(np.array([text])) > 0.5\n",
    "prediction_text = \"\"\n",
    "for i, col in enumerate(['toxic', 'severe_toxic', 'obscene', 'threat', 'insult', 'identity_hate']):\n",
    "    prediction_text += f\"{col:<{20}}: {predictions[0][i]:<{5}}\\n\"\n",
    "print(prediction_text)"
   ]
  },
  {
   "cell_type": "code",
   "execution_count": 49,
   "id": "5f4aab4a",
   "metadata": {},
   "outputs": [
    {
     "name": "stdout",
     "output_type": "stream",
     "text": [
      "1/1 [==============================] - 0s 98ms/step\n",
      "toxic               : 0    \n",
      "severe_toxic        : 0    \n",
      "obscene             : 0    \n",
      "threat              : 0    \n",
      "insult              : 0    \n",
      "identity_hate       : 0    \n",
      "\n"
     ]
    }
   ],
   "source": [
    "text = \"how are you\"\n",
    "predictions = model.predict(np.array([text])) > 0.5\n",
    "prediction_text = \"\"\n",
    "for i, col in enumerate(['toxic', 'severe_toxic', 'obscene', 'threat', 'insult', 'identity_hate']):\n",
    "    prediction_text += f\"{col:<{20}}: {predictions[0][i]:<{5}}\\n\"\n",
    "print(prediction_text)"
   ]
  },
  {
   "cell_type": "code",
   "execution_count": 50,
   "id": "5253327a",
   "metadata": {},
   "outputs": [
    {
     "name": "stdout",
     "output_type": "stream",
     "text": [
      "Model: \"sequential_1\"\n",
      "_________________________________________________________________\n",
      " Layer (type)                Output Shape              Param #   \n",
      "=================================================================\n",
      " text_vectorization_1 (Text  (None, 1800)              0         \n",
      " Vectorization)                                                  \n",
      "                                                                 \n",
      " embedding_1 (Embedding)     (None, 1800, 32)          3200032   \n",
      "                                                                 \n",
      " bidirectional_1 (Bidirecti  (None, 64)                16640     \n",
      " onal)                                                           \n",
      "                                                                 \n",
      " dense_4 (Dense)             (None, 256)               16640     \n",
      "                                                                 \n",
      " dense_5 (Dense)             (None, 256)               65792     \n",
      "                                                                 \n",
      " dense_6 (Dense)             (None, 128)               32896     \n",
      "                                                                 \n",
      " dense_7 (Dense)             (None, 6)                 774       \n",
      "                                                                 \n",
      "=================================================================\n",
      "Total params: 3332774 (12.71 MB)\n",
      "Trainable params: 3332774 (12.71 MB)\n",
      "Non-trainable params: 0 (0.00 Byte)\n",
      "_________________________________________________________________\n"
     ]
    }
   ],
   "source": [
    "model.summary()"
   ]
  },
  {
   "cell_type": "code",
   "execution_count": 59,
   "id": "03aa2ed5",
   "metadata": {},
   "outputs": [
    {
     "name": "stdout",
     "output_type": "stream",
     "text": [
      "INFO:tensorflow:Assets written to: C:/Users/aakas/Downloads/datasets all/TCC_model\\assets\n"
     ]
    },
    {
     "name": "stderr",
     "output_type": "stream",
     "text": [
      "INFO:tensorflow:Assets written to: C:/Users/aakas/Downloads/datasets all/TCC_model\\assets\n"
     ]
    }
   ],
   "source": [
    "model.save('C:/Users/aakas/Downloads/datasets all/TCC_model', save_format='tf')"
   ]
  },
  {
   "cell_type": "code",
   "execution_count": null,
   "id": "79737f6c",
   "metadata": {},
   "outputs": [],
   "source": []
  }
 ],
 "metadata": {
  "kernelspec": {
   "display_name": "Python 3 (ipykernel)",
   "language": "python",
   "name": "python3"
  },
  "language_info": {
   "codemirror_mode": {
    "name": "ipython",
    "version": 3
   },
   "file_extension": ".py",
   "mimetype": "text/x-python",
   "name": "python",
   "nbconvert_exporter": "python",
   "pygments_lexer": "ipython3",
   "version": "3.11.5"
  }
 },
 "nbformat": 4,
 "nbformat_minor": 5
}
