{
 "cells": [
  {
   "cell_type": "code",
   "execution_count": 1,
   "id": "b33923e0",
   "metadata": {},
   "outputs": [
    {
     "name": "stdout",
     "output_type": "stream",
     "text": [
      "WARNING:tensorflow:From C:\\Users\\aakas\\anaconda3\\Lib\\site-packages\\keras\\src\\losses.py:2976: The name tf.losses.sparse_softmax_cross_entropy is deprecated. Please use tf.compat.v1.losses.sparse_softmax_cross_entropy instead.\n",
      "\n"
     ]
    }
   ],
   "source": [
    "import tensorflow as tf\n",
    "from tensorflow import keras\n",
    "import numpy as np"
   ]
  },
  {
   "cell_type": "code",
   "execution_count": 2,
   "id": "b7f3bc96",
   "metadata": {},
   "outputs": [],
   "source": [
    "from tensorflow.keras.models import load_model"
   ]
  },
  {
   "cell_type": "code",
   "execution_count": 3,
   "id": "740c864c",
   "metadata": {},
   "outputs": [
    {
     "name": "stdout",
     "output_type": "stream",
     "text": [
      "WARNING:tensorflow:From C:\\Users\\aakas\\anaconda3\\Lib\\site-packages\\keras\\src\\saving\\legacy\\saved_model\\load.py:107: The name tf.gfile.Exists is deprecated. Please use tf.io.gfile.exists instead.\n",
      "\n",
      "WARNING:tensorflow:From C:\\Users\\aakas\\anaconda3\\Lib\\site-packages\\keras\\src\\backend.py:873: The name tf.get_default_graph is deprecated. Please use tf.compat.v1.get_default_graph instead.\n",
      "\n",
      "WARNING:tensorflow:From C:\\Users\\aakas\\anaconda3\\Lib\\site-packages\\keras\\src\\utils\\tf_utils.py:492: The name tf.ragged.RaggedTensorValue is deprecated. Please use tf.compat.v1.ragged.RaggedTensorValue instead.\n",
      "\n"
     ]
    }
   ],
   "source": [
    "loaded_model = tf.keras.models.load_model('C:/Users/aakas/Downloads/datasets all/TCC_model')"
   ]
  },
  {
   "cell_type": "code",
   "execution_count": 4,
   "id": "285e010f",
   "metadata": {},
   "outputs": [
    {
     "name": "stdout",
     "output_type": "stream",
     "text": [
      "Model: \"sequential_1\"\n",
      "_________________________________________________________________\n",
      " Layer (type)                Output Shape              Param #   \n",
      "=================================================================\n",
      " text_vectorization_1 (Text  (None, 1800)              0         \n",
      " Vectorization)                                                  \n",
      "                                                                 \n",
      " embedding_1 (Embedding)     (None, 1800, 32)          3200032   \n",
      "                                                                 \n",
      " bidirectional_1 (Bidirecti  (None, 64)                16640     \n",
      " onal)                                                           \n",
      "                                                                 \n",
      " dense_4 (Dense)             (None, 256)               16640     \n",
      "                                                                 \n",
      " dense_5 (Dense)             (None, 256)               65792     \n",
      "                                                                 \n",
      " dense_6 (Dense)             (None, 128)               32896     \n",
      "                                                                 \n",
      " dense_7 (Dense)             (None, 6)                 774       \n",
      "                                                                 \n",
      "=================================================================\n",
      "Total params: 3332774 (12.71 MB)\n",
      "Trainable params: 3332774 (12.71 MB)\n",
      "Non-trainable params: 0 (0.00 Byte)\n",
      "_________________________________________________________________\n"
     ]
    }
   ],
   "source": [
    "loaded_model.summary()"
   ]
  },
  {
   "cell_type": "code",
   "execution_count": 5,
   "id": "937faf49",
   "metadata": {
    "scrolled": true
   },
   "outputs": [
    {
     "name": "stdout",
     "output_type": "stream",
     "text": [
      "1/1 [==============================] - 1s 877ms/step\n",
      "toxic               : 1    \n",
      "severe_toxic        : 0    \n",
      "obscene             : 1    \n",
      "threat              : 1    \n",
      "insult              : 1    \n",
      "identity_hate       : 0    \n",
      "\n"
     ]
    }
   ],
   "source": [
    "text = \"I think that you are a Faggot get a life and burn in Hell I hate you, im going to find out where u live and kill everyone of you\"\n",
    "predictions = loaded_model.predict(np.array([text])) > 0.5\n",
    "prediction_text = \"\"\n",
    "for i, col in enumerate(['toxic', 'severe_toxic', 'obscene', 'threat', 'insult', 'identity_hate']):\n",
    "    prediction_text += f\"{col:<{20}}: {predictions[0][i]:<{5}}\\n\"\n",
    "print(prediction_text)"
   ]
  },
  {
   "cell_type": "code",
   "execution_count": 6,
   "id": "e9cc8a53",
   "metadata": {},
   "outputs": [
    {
     "name": "stdout",
     "output_type": "stream",
     "text": [
      "1/1 [==============================] - 0s 65ms/step\n",
      "toxic               : 0    \n",
      "severe_toxic        : 0    \n",
      "obscene             : 0    \n",
      "threat              : 0    \n",
      "insult              : 0    \n",
      "identity_hate       : 0    \n",
      "\n"
     ]
    }
   ],
   "source": [
    "text = \"how are you\"\n",
    "predictions = loaded_model.predict(np.array([text])) > 0.5\n",
    "prediction_text = \"\"\n",
    "for i, col in enumerate(['toxic', 'severe_toxic', 'obscene', 'threat', 'insult', 'identity_hate']):\n",
    "    prediction_text += f\"{col:<{20}}: {predictions[0][i]:<{5}}\\n\"\n",
    "print(prediction_text)"
   ]
  },
  {
   "cell_type": "code",
   "execution_count": 9,
   "id": "57e4bb5c",
   "metadata": {},
   "outputs": [
    {
     "name": "stdout",
     "output_type": "stream",
     "text": [
      "1/1 [==============================] - 0s 69ms/step\n",
      "toxic               : 1    \n",
      "severe_toxic        : 0    \n",
      "obscene             : 0    \n",
      "threat              : 1    \n",
      "insult              : 0    \n",
      "identity_hate       : 0    \n",
      "\n"
     ]
    }
   ],
   "source": [
    "text = \"i am going to kill you\"\n",
    "predictions = loaded_model.predict(np.array([text])) > 0.5\n",
    "prediction_text = \"\"\n",
    "for i, col in enumerate(['toxic', 'severe_toxic', 'obscene', 'threat', 'insult', 'identity_hate']):\n",
    "    prediction_text += f\"{col:<{20}}: {predictions[0][i]:<{5}}\\n\"\n",
    "print(prediction_text)"
   ]
  },
  {
   "cell_type": "code",
   "execution_count": 12,
   "id": "a0427108",
   "metadata": {},
   "outputs": [
    {
     "name": "stdout",
     "output_type": "stream",
     "text": [
      "1/1 [==============================] - 0s 173ms/step\n",
      "toxic               : 1\n",
      "severe_toxic        : 0\n",
      "obscene             : 1\n",
      "threat              : 0\n",
      "insult              : 1\n",
      "identity_hate       : 1\n"
     ]
    }
   ],
   "source": [
    "text = \"fuck off nigger\"\n",
    "predictions = loaded_model.predict(np.array([text])) > 0.5\n",
    "for i, col in enumerate(['toxic', 'severe_toxic', 'obscene', 'threat', 'insult', 'identity_hate']):\n",
    "    print(f\"{col:<20}: {int(predictions[0][i])}\")\n"
   ]
  },
  {
   "cell_type": "code",
   "execution_count": 16,
   "id": "1b7886b5",
   "metadata": {
    "scrolled": true
   },
   "outputs": [
    {
     "data": {
      "image/png": "[encoded data removed]",
      "text/plain": [
       "<Figure size 800x500 with 1 Axes>"
      ]
     },
     "metadata": {},
     "output_type": "display_data"
    }
   ],
   "source": [
    "import matplotlib.pyplot as plt\n",
    "\n",
    "loss = 0.1599\n",
    "binary_accuracy = 0.9567\n",
    "\n",
    "# Plotting\n",
    "plt.figure(figsize=(8, 5))\n",
    "plt.bar(['Loss', 'Binary Accuracy'], [loss, binary_accuracy], color=['blue', 'green'])\n",
    "plt.xlabel('Metrics')\n",
    "plt.ylabel('Value')\n",
    "plt.title('Model Metrics')\n",
    "plt.ylim(0, 1)  # Set y-axis limit to range from 0 to 1\n",
    "plt.show()"
   ]
  },
  {
   "cell_type": "code",
   "execution_count": 3,
   "id": "7a62f219",
   "metadata": {},
   "outputs": [
    {
     "name": "stdout",
     "output_type": "stream",
     "text": [
      "Accuracy: 0.8333333333333334\n",
      "Precision: 1.0\n",
      "Recall: 0.75\n",
      "F1 Score: 0.8571428571428571\n",
      "Confusion Matrix:\n",
      " [[2 0]\n",
      " [1 3]]\n"
     ]
    }
   ],
   "source": [
    "from sklearn.metrics import accuracy_score, precision_score, recall_score, f1_score, confusion_matrix\n",
    "y_true = [1, 1, 1, 0, 0, 1]\n",
    "y_pred = [1, 1, 0, 0, 0, 1]\n",
    "\n",
    "# Calculated metrics\n",
    "accuracy = accuracy_score(y_true, y_pred)\n",
    "precision = precision_score(y_true, y_pred)\n",
    "recall = recall_score(y_true, y_pred)\n",
    "f1 = f1_score(y_true, y_pred)\n",
    "conf_matrix = confusion_matrix(y_true, y_pred)\n",
    "\n",
    "# Outputs\n",
    "print(\"Accuracy:\", accuracy)  \n",
    "print(\"Precision:\", precision)  \n",
    "print(\"Recall:\", recall)  \n",
    "print(\"F1 Score:\", f1)  \n",
    "print(\"Confusion Matrix:\\n\", conf_matrix)\n"
   ]
  },
  {
   "cell_type": "code",
   "execution_count": 7,
   "id": "cb35f7b7",
   "metadata": {},
   "outputs": [],
   "source": [
    "#app.py -> create flask app"
   ]
  },
  {
   "cell_type": "code",
   "execution_count": 13,
   "id": "d182122e",
   "metadata": {},
   "outputs": [
    {
     "name": "stdout",
     "output_type": "stream",
     "text": [
      " * Serving Flask app '__main__'\n",
      " * Debug mode: off\n"
     ]
    },
    {
     "name": "stderr",
     "output_type": "stream",
     "text": [
      "WARNING: This is a development server. Do not use it in a production deployment. Use a production WSGI server instead.\n",
      " * Running on http://127.0.0.1:8000\n",
      "Press CTRL+C to quit\n",
      "127.0.0.1 - - [06/Apr/2024 17:15:24] \"GET / HTTP/1.1\" 404 -\n",
      "127.0.0.1 - - [06/Apr/2024 17:15:24] \"GET /favicon.ico HTTP/1.1\" 404 -\n",
      "127.0.0.1 - - [06/Apr/2024 17:15:30] \"GET / HTTP/1.1\" 404 -\n",
      "127.0.0.1 - - [06/Apr/2024 17:15:44] \"GET / HTTP/1.1\" 404 -\n",
      "127.0.0.1 - - [06/Apr/2024 17:15:45] \"GET /favicon.ico HTTP/1.1\" 404 -\n",
      "127.0.0.1 - - [06/Apr/2024 17:19:07] \"GET / HTTP/1.1\" 404 -\n"
     ]
    }
   ],
   "source": [
    "from flask import Flask, request, jsonify\n",
    "import numpy as np\n",
    "\n",
    "app = Flask(__name__)\n",
    "\n",
    "# Example function to mimic model prediction\n",
    "def predict(text):\n",
    "    # Example prediction code (replace with your actual prediction code)\n",
    "    predictions = np.zeros(6)  # Assuming 6 classes\n",
    "    prediction_text = \"\"\n",
    "    for i, col in enumerate(['toxic', 'severe_toxic', 'obscene', 'threat', 'insult', 'identity_hate']):\n",
    "        prediction_text += f\"{col:<{20}}: {predictions[i]:<{5}}\\n\"\n",
    "    return prediction_text\n",
    "\n",
    "@app.route('/classify', methods=['POST'])\n",
    "def classify():\n",
    "    data = request.get_json()\n",
    "    text = data['text']\n",
    "\n",
    "    # Call your prediction function\n",
    "    prediction_text = predict(text)\n",
    "\n",
    "    return jsonify({'prediction': prediction_text})\n",
    "\n",
    "if __name__ == '__main__':\n",
    "    app.run(debug=False, port=8000)  # Change port to 8000\n"
   ]
  },
  {
   "cell_type": "code",
   "execution_count": 19,
   "id": "fdc9ba32",
   "metadata": {},
   "outputs": [
    {
     "name": "stdout",
     "output_type": "stream",
     "text": [
      " * Serving Flask app '__main__'\n",
      " * Debug mode: off\n"
     ]
    },
    {
     "name": "stderr",
     "output_type": "stream",
     "text": [
      "WARNING: This is a development server. Do not use it in a production deployment. Use a production WSGI server instead.\n",
      " * Running on http://127.0.0.1:5001\n",
      "Press CTRL+C to quit\n",
      "127.0.0.1 - - [06/Apr/2024 17:25:21] \"GET / HTTP/1.1\" 304 -\n",
      "127.0.0.1 - - [06/Apr/2024 17:25:21] \"GET /script.js HTTP/1.1\" 404 -\n",
      "127.0.0.1 - - [06/Apr/2024 17:25:24] \"GET /?textInput=hbjv HTTP/1.1\" 200 -\n",
      "127.0.0.1 - - [06/Apr/2024 17:25:24] \"GET /script.js HTTP/1.1\" 404 -\n",
      "127.0.0.1 - - [06/Apr/2024 17:26:55] \"GET /?textInput=hbjv HTTP/1.1\" 200 -\n",
      "127.0.0.1 - - [06/Apr/2024 17:26:55] \"GET /static/script.js HTTP/1.1\" 404 -\n",
      "127.0.0.1 - - [06/Apr/2024 17:26:57] \"GET /?textInput=sadf HTTP/1.1\" 200 -\n",
      "127.0.0.1 - - [06/Apr/2024 17:26:57] \"GET /static/script.js HTTP/1.1\" 404 -\n",
      "127.0.0.1 - - [06/Apr/2024 17:37:05] \"GET /?textInput=asd HTTP/1.1\" 200 -\n",
      "127.0.0.1 - - [06/Apr/2024 17:37:05] \"GET /static/script.js HTTP/1.1\" 404 -\n",
      "127.0.0.1 - - [06/Apr/2024 17:37:06] \"GET /?textInput= HTTP/1.1\" 200 -\n",
      "127.0.0.1 - - [06/Apr/2024 17:37:06] \"GET /static/script.js HTTP/1.1\" 404 -\n",
      "127.0.0.1 - - [06/Apr/2024 17:37:06] \"GET /?textInput= HTTP/1.1\" 304 -\n",
      "127.0.0.1 - - [06/Apr/2024 17:37:06] \"GET /static/script.js HTTP/1.1\" 404 -\n"
     ]
    }
   ],
   "source": [
    "from flask import Flask, send_file\n",
    "import timeit\n",
    "app = Flask(__name__)\n",
    "\n",
    "@app.route('/')\n",
    "def index():\n",
    "    return send_file('C:/Users/aakas/Downloads/datasets all/index.html')\n",
    "\n",
    "if __name__ == '__main__':\n",
    "    app.run(debug=False, port=5001)  \n"
   ]
  },
  {
   "cell_type": "code",
   "execution_count": null,
   "id": "1b491db7",
   "metadata": {},
   "outputs": [],
   "source": []
  }
 ],
 "metadata": {
  "kernelspec": {
   "display_name": "Python 3 (ipykernel)",
   "language": "python",
   "name": "python3"
  },
  "language_info": {
   "codemirror_mode": {
    "name": "ipython",
    "version": 3
   },
   "file_extension": ".py",
   "mimetype": "text/x-python",
   "name": "python",
   "nbconvert_exporter": "python",
   "pygments_lexer": "ipython3",
   "version": "3.11.5"
  }
 },
 "nbformat": 4,
 "nbformat_minor": 5
}
